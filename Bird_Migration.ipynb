{
  "cells": [
    {
      "cell_type": "markdown",
      "metadata": {
        "id": "view-in-github",
        "colab_type": "text"
      },
      "source": [
        "<a href=\"https://colab.research.google.com/github/Sivaram-G97/Complete-Python-3-Bootcamp/blob/master/Bird_Migration.ipynb\" target=\"_parent\"><img src=\"https://colab.research.google.com/assets/colab-badge.svg\" alt=\"Open In Colab\"/></a>"
      ]
    },
    {
      "cell_type": "code",
      "execution_count": null,
      "metadata": {
        "id": "SIeKte8k0Ju3"
      },
      "outputs": [],
      "source": [
        "import pandas as pd\n",
        "import numpy as np\n",
        "import seaborn as sns\n",
        "import matplotlib.pyplot as plt"
      ]
    },
    {
      "cell_type": "code",
      "execution_count": null,
      "metadata": {
        "id": "yyf1-bPdB9V_"
      },
      "outputs": [],
      "source": [
        "df = pd.read_excel('/content/Bird_Migration_data.xlsx')"
      ]
    },
    {
      "cell_type": "code",
      "execution_count": null,
      "metadata": {
        "colab": {
          "base_uri": "https://localhost:8080/",
          "height": 325
        },
        "id": "esbccTBdCRAZ",
        "outputId": "3812e256-ae9f-4982-8407-a70f4e0a465f"
      },
      "outputs": [
        {
          "data": {
            "application/vnd.google.colaboratory.intrinsic+json": {
              "type": "dataframe",
              "variable_name": "df"
            },
            "text/html": [
              "\n",
              "  <div id=\"df-0d1829cc-c16b-46a6-a8b7-ec1658f37e5d\" class=\"colab-df-container\">\n",
              "    <div>\n",
              "<style scoped>\n",
              "    .dataframe tbody tr th:only-of-type {\n",
              "        vertical-align: middle;\n",
              "    }\n",
              "\n",
              "    .dataframe tbody tr th {\n",
              "        vertical-align: top;\n",
              "    }\n",
              "\n",
              "    .dataframe thead th {\n",
              "        text-align: right;\n",
              "    }\n",
              "</style>\n",
              "<table border=\"1\" class=\"dataframe\">\n",
              "  <thead>\n",
              "    <tr style=\"text-align: right;\">\n",
              "      <th></th>\n",
              "      <th>Bird_ID</th>\n",
              "      <th>Species</th>\n",
              "      <th>Region</th>\n",
              "      <th>Habitat</th>\n",
              "      <th>Weather_Condition</th>\n",
              "      <th>Migration_Reason</th>\n",
              "      <th>Start_Latitude</th>\n",
              "      <th>Start_Longitude</th>\n",
              "      <th>End_Latitude</th>\n",
              "      <th>End_Longitude</th>\n",
              "      <th>...</th>\n",
              "      <th>Tracking_Quality</th>\n",
              "      <th>Migration_Interrupted</th>\n",
              "      <th>Interrupted_Reason</th>\n",
              "      <th>Tagged_By</th>\n",
              "      <th>Tag_Weight_g</th>\n",
              "      <th>Migration_Success</th>\n",
              "      <th>Recovery_Location_Known</th>\n",
              "      <th>Recovery_Time_days</th>\n",
              "      <th>Observation_Counts</th>\n",
              "      <th>Observation_Quality</th>\n",
              "    </tr>\n",
              "  </thead>\n",
              "  <tbody>\n",
              "    <tr>\n",
              "      <th>0</th>\n",
              "      <td>B1000</td>\n",
              "      <td>Warbler</td>\n",
              "      <td>South America</td>\n",
              "      <td>Grassland</td>\n",
              "      <td>Stormy</td>\n",
              "      <td>Feeding</td>\n",
              "      <td>11.906566</td>\n",
              "      <td>-169.378251</td>\n",
              "      <td>30.377647</td>\n",
              "      <td>-21.366879</td>\n",
              "      <td>...</td>\n",
              "      <td>Excellent</td>\n",
              "      <td>Yes</td>\n",
              "      <td>Storm</td>\n",
              "      <td>Researcher_A</td>\n",
              "      <td>27.0</td>\n",
              "      <td>Failed</td>\n",
              "      <td>No</td>\n",
              "      <td>102</td>\n",
              "      <td>56</td>\n",
              "      <td>Low</td>\n",
              "    </tr>\n",
              "    <tr>\n",
              "      <th>1</th>\n",
              "      <td>B1001</td>\n",
              "      <td>Stork</td>\n",
              "      <td>North America</td>\n",
              "      <td>Grassland</td>\n",
              "      <td>Stormy</td>\n",
              "      <td>Breeding</td>\n",
              "      <td>62.301546</td>\n",
              "      <td>-111.475069</td>\n",
              "      <td>39.921092</td>\n",
              "      <td>47.963436</td>\n",
              "      <td>...</td>\n",
              "      <td>Good</td>\n",
              "      <td>Yes</td>\n",
              "      <td>Injury</td>\n",
              "      <td>Researcher_C</td>\n",
              "      <td>14.2</td>\n",
              "      <td>Successful</td>\n",
              "      <td>Yes</td>\n",
              "      <td>118</td>\n",
              "      <td>61</td>\n",
              "      <td>Low</td>\n",
              "    </tr>\n",
              "    <tr>\n",
              "      <th>2</th>\n",
              "      <td>B1002</td>\n",
              "      <td>Hawk</td>\n",
              "      <td>South America</td>\n",
              "      <td>Mountain</td>\n",
              "      <td>Stormy</td>\n",
              "      <td>Avoid Predators</td>\n",
              "      <td>87.861164</td>\n",
              "      <td>-78.727327</td>\n",
              "      <td>66.990980</td>\n",
              "      <td>19.448466</td>\n",
              "      <td>...</td>\n",
              "      <td>Fair</td>\n",
              "      <td>No</td>\n",
              "      <td>Lost Signal</td>\n",
              "      <td>Researcher_B</td>\n",
              "      <td>16.1</td>\n",
              "      <td>Failed</td>\n",
              "      <td>No</td>\n",
              "      <td>41</td>\n",
              "      <td>71</td>\n",
              "      <td>High</td>\n",
              "    </tr>\n",
              "    <tr>\n",
              "      <th>3</th>\n",
              "      <td>B1003</td>\n",
              "      <td>Warbler</td>\n",
              "      <td>South America</td>\n",
              "      <td>Urban</td>\n",
              "      <td>Stormy</td>\n",
              "      <td>Climate Change</td>\n",
              "      <td>35.770590</td>\n",
              "      <td>153.104341</td>\n",
              "      <td>-49.003145</td>\n",
              "      <td>-157.868744</td>\n",
              "      <td>...</td>\n",
              "      <td>Good</td>\n",
              "      <td>Yes</td>\n",
              "      <td>Lost Signal</td>\n",
              "      <td>Researcher_C</td>\n",
              "      <td>24.4</td>\n",
              "      <td>Successful</td>\n",
              "      <td>No</td>\n",
              "      <td>15</td>\n",
              "      <td>68</td>\n",
              "      <td>Low</td>\n",
              "    </tr>\n",
              "    <tr>\n",
              "      <th>4</th>\n",
              "      <td>B1004</td>\n",
              "      <td>Crane</td>\n",
              "      <td>Europe</td>\n",
              "      <td>Urban</td>\n",
              "      <td>Windy</td>\n",
              "      <td>Avoid Predators</td>\n",
              "      <td>-21.611614</td>\n",
              "      <td>106.674824</td>\n",
              "      <td>11.681051</td>\n",
              "      <td>-115.022863</td>\n",
              "      <td>...</td>\n",
              "      <td>Good</td>\n",
              "      <td>No</td>\n",
              "      <td>NaN</td>\n",
              "      <td>Researcher_B</td>\n",
              "      <td>25.8</td>\n",
              "      <td>Failed</td>\n",
              "      <td>Yes</td>\n",
              "      <td>73</td>\n",
              "      <td>67</td>\n",
              "      <td>Moderate</td>\n",
              "    </tr>\n",
              "  </tbody>\n",
              "</table>\n",
              "<p>5 rows × 41 columns</p>\n",
              "</div>\n",
              "    <div class=\"colab-df-buttons\">\n",
              "\n",
              "  <div class=\"colab-df-container\">\n",
              "    <button class=\"colab-df-convert\" onclick=\"convertToInteractive('df-0d1829cc-c16b-46a6-a8b7-ec1658f37e5d')\"\n",
              "            title=\"Convert this dataframe to an interactive table.\"\n",
              "            style=\"display:none;\">\n",
              "\n",
              "  <svg xmlns=\"http://www.w3.org/2000/svg\" height=\"24px\" viewBox=\"0 -960 960 960\">\n",
              "    <path d=\"M120-120v-720h720v720H120Zm60-500h600v-160H180v160Zm220 220h160v-160H400v160Zm0 220h160v-160H400v160ZM180-400h160v-160H180v160Zm440 0h160v-160H620v160ZM180-180h160v-160H180v160Zm440 0h160v-160H620v160Z\"/>\n",
              "  </svg>\n",
              "    </button>\n",
              "\n",
              "  <style>\n",
              "    .colab-df-container {\n",
              "      display:flex;\n",
              "      gap: 12px;\n",
              "    }\n",
              "\n",
              "    .colab-df-convert {\n",
              "      background-color: #E8F0FE;\n",
              "      border: none;\n",
              "      border-radius: 50%;\n",
              "      cursor: pointer;\n",
              "      display: none;\n",
              "      fill: #1967D2;\n",
              "      height: 32px;\n",
              "      padding: 0 0 0 0;\n",
              "      width: 32px;\n",
              "    }\n",
              "\n",
              "    .colab-df-convert:hover {\n",
              "      background-color: #E2EBFA;\n",
              "      box-shadow: 0px 1px 2px rgba(60, 64, 67, 0.3), 0px 1px 3px 1px rgba(60, 64, 67, 0.15);\n",
              "      fill: #174EA6;\n",
              "    }\n",
              "\n",
              "    .colab-df-buttons div {\n",
              "      margin-bottom: 4px;\n",
              "    }\n",
              "\n",
              "    [theme=dark] .colab-df-convert {\n",
              "      background-color: #3B4455;\n",
              "      fill: #D2E3FC;\n",
              "    }\n",
              "\n",
              "    [theme=dark] .colab-df-convert:hover {\n",
              "      background-color: #434B5C;\n",
              "      box-shadow: 0px 1px 3px 1px rgba(0, 0, 0, 0.15);\n",
              "      filter: drop-shadow(0px 1px 2px rgba(0, 0, 0, 0.3));\n",
              "      fill: #FFFFFF;\n",
              "    }\n",
              "  </style>\n",
              "\n",
              "    <script>\n",
              "      const buttonEl =\n",
              "        document.querySelector('#df-0d1829cc-c16b-46a6-a8b7-ec1658f37e5d button.colab-df-convert');\n",
              "      buttonEl.style.display =\n",
              "        google.colab.kernel.accessAllowed ? 'block' : 'none';\n",
              "\n",
              "      async function convertToInteractive(key) {\n",
              "        const element = document.querySelector('#df-0d1829cc-c16b-46a6-a8b7-ec1658f37e5d');\n",
              "        const dataTable =\n",
              "          await google.colab.kernel.invokeFunction('convertToInteractive',\n",
              "                                                    [key], {});\n",
              "        if (!dataTable) return;\n",
              "\n",
              "        const docLinkHtml = 'Like what you see? Visit the ' +\n",
              "          '<a target=\"_blank\" href=https://colab.research.google.com/notebooks/data_table.ipynb>data table notebook</a>'\n",
              "          + ' to learn more about interactive tables.';\n",
              "        element.innerHTML = '';\n",
              "        dataTable['output_type'] = 'display_data';\n",
              "        await google.colab.output.renderOutput(dataTable, element);\n",
              "        const docLink = document.createElement('div');\n",
              "        docLink.innerHTML = docLinkHtml;\n",
              "        element.appendChild(docLink);\n",
              "      }\n",
              "    </script>\n",
              "  </div>\n",
              "\n",
              "\n",
              "    <div id=\"df-2aa9ba79-19be-4c08-9464-2cea73c787c1\">\n",
              "      <button class=\"colab-df-quickchart\" onclick=\"quickchart('df-2aa9ba79-19be-4c08-9464-2cea73c787c1')\"\n",
              "                title=\"Suggest charts\"\n",
              "                style=\"display:none;\">\n",
              "\n",
              "<svg xmlns=\"http://www.w3.org/2000/svg\" height=\"24px\"viewBox=\"0 0 24 24\"\n",
              "     width=\"24px\">\n",
              "    <g>\n",
              "        <path d=\"M19 3H5c-1.1 0-2 .9-2 2v14c0 1.1.9 2 2 2h14c1.1 0 2-.9 2-2V5c0-1.1-.9-2-2-2zM9 17H7v-7h2v7zm4 0h-2V7h2v10zm4 0h-2v-4h2v4z\"/>\n",
              "    </g>\n",
              "</svg>\n",
              "      </button>\n",
              "\n",
              "<style>\n",
              "  .colab-df-quickchart {\n",
              "      --bg-color: #E8F0FE;\n",
              "      --fill-color: #1967D2;\n",
              "      --hover-bg-color: #E2EBFA;\n",
              "      --hover-fill-color: #174EA6;\n",
              "      --disabled-fill-color: #AAA;\n",
              "      --disabled-bg-color: #DDD;\n",
              "  }\n",
              "\n",
              "  [theme=dark] .colab-df-quickchart {\n",
              "      --bg-color: #3B4455;\n",
              "      --fill-color: #D2E3FC;\n",
              "      --hover-bg-color: #434B5C;\n",
              "      --hover-fill-color: #FFFFFF;\n",
              "      --disabled-bg-color: #3B4455;\n",
              "      --disabled-fill-color: #666;\n",
              "  }\n",
              "\n",
              "  .colab-df-quickchart {\n",
              "    background-color: var(--bg-color);\n",
              "    border: none;\n",
              "    border-radius: 50%;\n",
              "    cursor: pointer;\n",
              "    display: none;\n",
              "    fill: var(--fill-color);\n",
              "    height: 32px;\n",
              "    padding: 0;\n",
              "    width: 32px;\n",
              "  }\n",
              "\n",
              "  .colab-df-quickchart:hover {\n",
              "    background-color: var(--hover-bg-color);\n",
              "    box-shadow: 0 1px 2px rgba(60, 64, 67, 0.3), 0 1px 3px 1px rgba(60, 64, 67, 0.15);\n",
              "    fill: var(--button-hover-fill-color);\n",
              "  }\n",
              "\n",
              "  .colab-df-quickchart-complete:disabled,\n",
              "  .colab-df-quickchart-complete:disabled:hover {\n",
              "    background-color: var(--disabled-bg-color);\n",
              "    fill: var(--disabled-fill-color);\n",
              "    box-shadow: none;\n",
              "  }\n",
              "\n",
              "  .colab-df-spinner {\n",
              "    border: 2px solid var(--fill-color);\n",
              "    border-color: transparent;\n",
              "    border-bottom-color: var(--fill-color);\n",
              "    animation:\n",
              "      spin 1s steps(1) infinite;\n",
              "  }\n",
              "\n",
              "  @keyframes spin {\n",
              "    0% {\n",
              "      border-color: transparent;\n",
              "      border-bottom-color: var(--fill-color);\n",
              "      border-left-color: var(--fill-color);\n",
              "    }\n",
              "    20% {\n",
              "      border-color: transparent;\n",
              "      border-left-color: var(--fill-color);\n",
              "      border-top-color: var(--fill-color);\n",
              "    }\n",
              "    30% {\n",
              "      border-color: transparent;\n",
              "      border-left-color: var(--fill-color);\n",
              "      border-top-color: var(--fill-color);\n",
              "      border-right-color: var(--fill-color);\n",
              "    }\n",
              "    40% {\n",
              "      border-color: transparent;\n",
              "      border-right-color: var(--fill-color);\n",
              "      border-top-color: var(--fill-color);\n",
              "    }\n",
              "    60% {\n",
              "      border-color: transparent;\n",
              "      border-right-color: var(--fill-color);\n",
              "    }\n",
              "    80% {\n",
              "      border-color: transparent;\n",
              "      border-right-color: var(--fill-color);\n",
              "      border-bottom-color: var(--fill-color);\n",
              "    }\n",
              "    90% {\n",
              "      border-color: transparent;\n",
              "      border-bottom-color: var(--fill-color);\n",
              "    }\n",
              "  }\n",
              "</style>\n",
              "\n",
              "      <script>\n",
              "        async function quickchart(key) {\n",
              "          const quickchartButtonEl =\n",
              "            document.querySelector('#' + key + ' button');\n",
              "          quickchartButtonEl.disabled = true;  // To prevent multiple clicks.\n",
              "          quickchartButtonEl.classList.add('colab-df-spinner');\n",
              "          try {\n",
              "            const charts = await google.colab.kernel.invokeFunction(\n",
              "                'suggestCharts', [key], {});\n",
              "          } catch (error) {\n",
              "            console.error('Error during call to suggestCharts:', error);\n",
              "          }\n",
              "          quickchartButtonEl.classList.remove('colab-df-spinner');\n",
              "          quickchartButtonEl.classList.add('colab-df-quickchart-complete');\n",
              "        }\n",
              "        (() => {\n",
              "          let quickchartButtonEl =\n",
              "            document.querySelector('#df-2aa9ba79-19be-4c08-9464-2cea73c787c1 button');\n",
              "          quickchartButtonEl.style.display =\n",
              "            google.colab.kernel.accessAllowed ? 'block' : 'none';\n",
              "        })();\n",
              "      </script>\n",
              "    </div>\n",
              "\n",
              "    </div>\n",
              "  </div>\n"
            ],
            "text/plain": [
              "  Bird_ID  Species         Region    Habitat Weather_Condition  \\\n",
              "0   B1000  Warbler  South America  Grassland            Stormy   \n",
              "1   B1001    Stork  North America  Grassland            Stormy   \n",
              "2   B1002     Hawk  South America   Mountain            Stormy   \n",
              "3   B1003  Warbler  South America      Urban            Stormy   \n",
              "4   B1004    Crane         Europe      Urban             Windy   \n",
              "\n",
              "  Migration_Reason  Start_Latitude  Start_Longitude  End_Latitude  \\\n",
              "0          Feeding       11.906566      -169.378251     30.377647   \n",
              "1         Breeding       62.301546      -111.475069     39.921092   \n",
              "2  Avoid Predators       87.861164       -78.727327     66.990980   \n",
              "3   Climate Change       35.770590       153.104341    -49.003145   \n",
              "4  Avoid Predators      -21.611614       106.674824     11.681051   \n",
              "\n",
              "   End_Longitude  ...  Tracking_Quality  Migration_Interrupted  \\\n",
              "0     -21.366879  ...         Excellent                    Yes   \n",
              "1      47.963436  ...              Good                    Yes   \n",
              "2      19.448466  ...              Fair                     No   \n",
              "3    -157.868744  ...              Good                    Yes   \n",
              "4    -115.022863  ...              Good                     No   \n",
              "\n",
              "   Interrupted_Reason     Tagged_By  Tag_Weight_g  Migration_Success  \\\n",
              "0               Storm  Researcher_A          27.0             Failed   \n",
              "1              Injury  Researcher_C          14.2         Successful   \n",
              "2         Lost Signal  Researcher_B          16.1             Failed   \n",
              "3         Lost Signal  Researcher_C          24.4         Successful   \n",
              "4                 NaN  Researcher_B          25.8             Failed   \n",
              "\n",
              "   Recovery_Location_Known  Recovery_Time_days  Observation_Counts  \\\n",
              "0                       No                 102                  56   \n",
              "1                      Yes                 118                  61   \n",
              "2                       No                  41                  71   \n",
              "3                       No                  15                  68   \n",
              "4                      Yes                  73                  67   \n",
              "\n",
              "   Observation_Quality  \n",
              "0                  Low  \n",
              "1                  Low  \n",
              "2                 High  \n",
              "3                  Low  \n",
              "4             Moderate  \n",
              "\n",
              "[5 rows x 41 columns]"
            ]
          },
          "execution_count": 3,
          "metadata": {},
          "output_type": "execute_result"
        }
      ],
      "source": [
        "df.head(5)"
      ]
    },
    {
      "cell_type": "code",
      "execution_count": null,
      "metadata": {
        "colab": {
          "base_uri": "https://localhost:8080/"
        },
        "id": "R4emdIl2OgJ9",
        "outputId": "9d46bfdb-82e1-46c1-897e-1b984aacab54"
      },
      "outputs": [
        {
          "name": "stdout",
          "output_type": "stream",
          "text": [
            "<class 'pandas.core.frame.DataFrame'>\n",
            "RangeIndex: 10000 entries, 0 to 9999\n",
            "Data columns (total 41 columns):\n",
            " #   Column                   Non-Null Count  Dtype  \n",
            "---  ------                   --------------  -----  \n",
            " 0   Bird_ID                  10000 non-null  object \n",
            " 1   Species                  10000 non-null  object \n",
            " 2   Region                   10000 non-null  object \n",
            " 3   Habitat                  10000 non-null  object \n",
            " 4   Weather_Condition        10000 non-null  object \n",
            " 5   Migration_Reason         10000 non-null  object \n",
            " 6   Start_Latitude           10000 non-null  float64\n",
            " 7   Start_Longitude          10000 non-null  float64\n",
            " 8   End_Latitude             10000 non-null  float64\n",
            " 9   End_Longitude            10000 non-null  float64\n",
            " 10  Flight_Distance_km       10000 non-null  float64\n",
            " 11  Flight_Duration_hours    10000 non-null  float64\n",
            " 12  Average_Speed_kmph       10000 non-null  float64\n",
            " 13  Max_Altitude_m           10000 non-null  int64  \n",
            " 14  Min_Altitude_m           10000 non-null  int64  \n",
            " 15  Temperature_C            10000 non-null  float64\n",
            " 16  Wind_Speed_kmph          10000 non-null  float64\n",
            " 17  Humidity_%               10000 non-null  int64  \n",
            " 18  Pressure_hPa             10000 non-null  float64\n",
            " 19  Visibility_km            10000 non-null  float64\n",
            " 20  Nesting_Success          10000 non-null  object \n",
            " 21  Tag_Battery_Level_%      10000 non-null  int64  \n",
            " 22  Signal_Strength_dB       10000 non-null  float64\n",
            " 23  Migration_Start_Month    10000 non-null  object \n",
            " 24  Migration_End_Month      10000 non-null  object \n",
            " 25  Rest_Stops               10000 non-null  int64  \n",
            " 26  Predator_Sightings       10000 non-null  int64  \n",
            " 27  Tag_Type                 10000 non-null  object \n",
            " 28  Migrated_in_Flock        10000 non-null  object \n",
            " 29  Flock_Size               10000 non-null  int64  \n",
            " 30  Food_Supply_Level        10000 non-null  object \n",
            " 31  Tracking_Quality         10000 non-null  object \n",
            " 32  Migration_Interrupted    10000 non-null  object \n",
            " 33  Interrupted_Reason       8019 non-null   object \n",
            " 34  Tagged_By                10000 non-null  object \n",
            " 35  Tag_Weight_g             10000 non-null  float64\n",
            " 36  Migration_Success        10000 non-null  object \n",
            " 37  Recovery_Location_Known  10000 non-null  object \n",
            " 38  Recovery_Time_days       10000 non-null  int64  \n",
            " 39  Observation_Counts       10000 non-null  int64  \n",
            " 40  Observation_Quality      10000 non-null  object \n",
            "dtypes: float64(13), int64(9), object(19)\n",
            "memory usage: 3.1+ MB\n"
          ]
        }
      ],
      "source": [
        "df.info()"
      ]
    },
    {
      "cell_type": "code",
      "execution_count": null,
      "metadata": {
        "colab": {
          "base_uri": "https://localhost:8080/",
          "height": 349
        },
        "id": "gaE8OrgPOtlr",
        "outputId": "e853f720-7a35-4e48-ed3b-8e9c3e593456"
      },
      "outputs": [
        {
          "data": {
            "application/vnd.google.colaboratory.intrinsic+json": {
              "type": "dataframe"
            },
            "text/html": [
              "\n",
              "  <div id=\"df-779de914-1448-4256-8731-f349172d836e\" class=\"colab-df-container\">\n",
              "    <div>\n",
              "<style scoped>\n",
              "    .dataframe tbody tr th:only-of-type {\n",
              "        vertical-align: middle;\n",
              "    }\n",
              "\n",
              "    .dataframe tbody tr th {\n",
              "        vertical-align: top;\n",
              "    }\n",
              "\n",
              "    .dataframe thead th {\n",
              "        text-align: right;\n",
              "    }\n",
              "</style>\n",
              "<table border=\"1\" class=\"dataframe\">\n",
              "  <thead>\n",
              "    <tr style=\"text-align: right;\">\n",
              "      <th></th>\n",
              "      <th>Start_Latitude</th>\n",
              "      <th>Start_Longitude</th>\n",
              "      <th>End_Latitude</th>\n",
              "      <th>End_Longitude</th>\n",
              "      <th>Flight_Distance_km</th>\n",
              "      <th>Flight_Duration_hours</th>\n",
              "      <th>Average_Speed_kmph</th>\n",
              "      <th>Max_Altitude_m</th>\n",
              "      <th>Min_Altitude_m</th>\n",
              "      <th>Temperature_C</th>\n",
              "      <th>...</th>\n",
              "      <th>Pressure_hPa</th>\n",
              "      <th>Visibility_km</th>\n",
              "      <th>Tag_Battery_Level_%</th>\n",
              "      <th>Signal_Strength_dB</th>\n",
              "      <th>Rest_Stops</th>\n",
              "      <th>Predator_Sightings</th>\n",
              "      <th>Flock_Size</th>\n",
              "      <th>Tag_Weight_g</th>\n",
              "      <th>Recovery_Time_days</th>\n",
              "      <th>Observation_Counts</th>\n",
              "    </tr>\n",
              "  </thead>\n",
              "  <tbody>\n",
              "    <tr>\n",
              "      <th>count</th>\n",
              "      <td>10000.000000</td>\n",
              "      <td>10000.000000</td>\n",
              "      <td>10000.000000</td>\n",
              "      <td>10000.000000</td>\n",
              "      <td>10000.000000</td>\n",
              "      <td>10000.000000</td>\n",
              "      <td>10000.000000</td>\n",
              "      <td>10000.00000</td>\n",
              "      <td>10000.000000</td>\n",
              "      <td>10000.000000</td>\n",
              "      <td>...</td>\n",
              "      <td>10000.000000</td>\n",
              "      <td>10000.000000</td>\n",
              "      <td>10000.000000</td>\n",
              "      <td>10000.0000</td>\n",
              "      <td>10000.000000</td>\n",
              "      <td>10000.000000</td>\n",
              "      <td>10000.000000</td>\n",
              "      <td>10000.000000</td>\n",
              "      <td>10000.000000</td>\n",
              "      <td>10000.000000</td>\n",
              "    </tr>\n",
              "    <tr>\n",
              "      <th>mean</th>\n",
              "      <td>-0.321812</td>\n",
              "      <td>-0.394588</td>\n",
              "      <td>0.084391</td>\n",
              "      <td>0.467617</td>\n",
              "      <td>2504.036134</td>\n",
              "      <td>49.994020</td>\n",
              "      <td>49.953394</td>\n",
              "      <td>5504.80830</td>\n",
              "      <td>500.111800</td>\n",
              "      <td>12.566930</td>\n",
              "      <td>...</td>\n",
              "      <td>1000.440810</td>\n",
              "      <td>10.636970</td>\n",
              "      <td>54.651800</td>\n",
              "      <td>-69.8408</td>\n",
              "      <td>7.380000</td>\n",
              "      <td>4.490200</td>\n",
              "      <td>248.714500</td>\n",
              "      <td>17.605870</td>\n",
              "      <td>60.490800</td>\n",
              "      <td>49.872800</td>\n",
              "    </tr>\n",
              "    <tr>\n",
              "      <th>std</th>\n",
              "      <td>51.919190</td>\n",
              "      <td>104.083440</td>\n",
              "      <td>51.709437</td>\n",
              "      <td>103.438134</td>\n",
              "      <td>499.723298</td>\n",
              "      <td>10.026108</td>\n",
              "      <td>5.085296</td>\n",
              "      <td>2595.28577</td>\n",
              "      <td>229.782907</td>\n",
              "      <td>13.073405</td>\n",
              "      <td>...</td>\n",
              "      <td>28.959614</td>\n",
              "      <td>5.504623</td>\n",
              "      <td>25.839271</td>\n",
              "      <td>9.9189</td>\n",
              "      <td>4.023583</td>\n",
              "      <td>2.872826</td>\n",
              "      <td>144.943771</td>\n",
              "      <td>7.200088</td>\n",
              "      <td>34.434028</td>\n",
              "      <td>28.601997</td>\n",
              "    </tr>\n",
              "    <tr>\n",
              "      <th>min</th>\n",
              "      <td>-89.999003</td>\n",
              "      <td>-179.993975</td>\n",
              "      <td>-89.998482</td>\n",
              "      <td>-179.902756</td>\n",
              "      <td>527.700000</td>\n",
              "      <td>12.600000</td>\n",
              "      <td>30.430000</td>\n",
              "      <td>1000.00000</td>\n",
              "      <td>100.000000</td>\n",
              "      <td>-10.000000</td>\n",
              "      <td>...</td>\n",
              "      <td>950.000000</td>\n",
              "      <td>1.000000</td>\n",
              "      <td>10.000000</td>\n",
              "      <td>-107.9000</td>\n",
              "      <td>1.000000</td>\n",
              "      <td>0.000000</td>\n",
              "      <td>1.000000</td>\n",
              "      <td>5.000000</td>\n",
              "      <td>1.000000</td>\n",
              "      <td>1.000000</td>\n",
              "    </tr>\n",
              "    <tr>\n",
              "      <th>25%</th>\n",
              "      <td>-45.390697</td>\n",
              "      <td>-91.444680</td>\n",
              "      <td>-43.664719</td>\n",
              "      <td>-88.871564</td>\n",
              "      <td>2169.632500</td>\n",
              "      <td>43.200000</td>\n",
              "      <td>46.530000</td>\n",
              "      <td>3277.75000</td>\n",
              "      <td>300.000000</td>\n",
              "      <td>1.200000</td>\n",
              "      <td>...</td>\n",
              "      <td>975.000000</td>\n",
              "      <td>5.900000</td>\n",
              "      <td>32.000000</td>\n",
              "      <td>-76.6000</td>\n",
              "      <td>4.000000</td>\n",
              "      <td>2.000000</td>\n",
              "      <td>124.000000</td>\n",
              "      <td>11.400000</td>\n",
              "      <td>31.000000</td>\n",
              "      <td>25.000000</td>\n",
              "    </tr>\n",
              "    <tr>\n",
              "      <th>50%</th>\n",
              "      <td>-0.138849</td>\n",
              "      <td>-0.479892</td>\n",
              "      <td>-0.163116</td>\n",
              "      <td>1.280823</td>\n",
              "      <td>2511.150000</td>\n",
              "      <td>50.050000</td>\n",
              "      <td>50.040000</td>\n",
              "      <td>5521.00000</td>\n",
              "      <td>501.000000</td>\n",
              "      <td>12.500000</td>\n",
              "      <td>...</td>\n",
              "      <td>1000.950000</td>\n",
              "      <td>10.700000</td>\n",
              "      <td>55.000000</td>\n",
              "      <td>-69.8000</td>\n",
              "      <td>7.000000</td>\n",
              "      <td>5.000000</td>\n",
              "      <td>248.000000</td>\n",
              "      <td>17.700000</td>\n",
              "      <td>61.000000</td>\n",
              "      <td>50.000000</td>\n",
              "    </tr>\n",
              "    <tr>\n",
              "      <th>75%</th>\n",
              "      <td>44.480926</td>\n",
              "      <td>89.640253</td>\n",
              "      <td>44.957102</td>\n",
              "      <td>91.196076</td>\n",
              "      <td>2841.452500</td>\n",
              "      <td>56.800000</td>\n",
              "      <td>53.360000</td>\n",
              "      <td>7740.25000</td>\n",
              "      <td>698.000000</td>\n",
              "      <td>24.000000</td>\n",
              "      <td>...</td>\n",
              "      <td>1025.500000</td>\n",
              "      <td>15.400000</td>\n",
              "      <td>77.000000</td>\n",
              "      <td>-63.1000</td>\n",
              "      <td>11.000000</td>\n",
              "      <td>7.000000</td>\n",
              "      <td>376.000000</td>\n",
              "      <td>24.000000</td>\n",
              "      <td>91.000000</td>\n",
              "      <td>74.000000</td>\n",
              "    </tr>\n",
              "    <tr>\n",
              "      <th>max</th>\n",
              "      <td>89.980302</td>\n",
              "      <td>179.989973</td>\n",
              "      <td>89.989145</td>\n",
              "      <td>179.955036</td>\n",
              "      <td>4428.320000</td>\n",
              "      <td>91.000000</td>\n",
              "      <td>68.950000</td>\n",
              "      <td>9999.00000</td>\n",
              "      <td>899.000000</td>\n",
              "      <td>35.000000</td>\n",
              "      <td>...</td>\n",
              "      <td>1050.000000</td>\n",
              "      <td>20.000000</td>\n",
              "      <td>99.000000</td>\n",
              "      <td>-33.3000</td>\n",
              "      <td>14.000000</td>\n",
              "      <td>9.000000</td>\n",
              "      <td>499.000000</td>\n",
              "      <td>30.000000</td>\n",
              "      <td>119.000000</td>\n",
              "      <td>99.000000</td>\n",
              "    </tr>\n",
              "  </tbody>\n",
              "</table>\n",
              "<p>8 rows × 22 columns</p>\n",
              "</div>\n",
              "    <div class=\"colab-df-buttons\">\n",
              "\n",
              "  <div class=\"colab-df-container\">\n",
              "    <button class=\"colab-df-convert\" onclick=\"convertToInteractive('df-779de914-1448-4256-8731-f349172d836e')\"\n",
              "            title=\"Convert this dataframe to an interactive table.\"\n",
              "            style=\"display:none;\">\n",
              "\n",
              "  <svg xmlns=\"http://www.w3.org/2000/svg\" height=\"24px\" viewBox=\"0 -960 960 960\">\n",
              "    <path d=\"M120-120v-720h720v720H120Zm60-500h600v-160H180v160Zm220 220h160v-160H400v160Zm0 220h160v-160H400v160ZM180-400h160v-160H180v160Zm440 0h160v-160H620v160ZM180-180h160v-160H180v160Zm440 0h160v-160H620v160Z\"/>\n",
              "  </svg>\n",
              "    </button>\n",
              "\n",
              "  <style>\n",
              "    .colab-df-container {\n",
              "      display:flex;\n",
              "      gap: 12px;\n",
              "    }\n",
              "\n",
              "    .colab-df-convert {\n",
              "      background-color: #E8F0FE;\n",
              "      border: none;\n",
              "      border-radius: 50%;\n",
              "      cursor: pointer;\n",
              "      display: none;\n",
              "      fill: #1967D2;\n",
              "      height: 32px;\n",
              "      padding: 0 0 0 0;\n",
              "      width: 32px;\n",
              "    }\n",
              "\n",
              "    .colab-df-convert:hover {\n",
              "      background-color: #E2EBFA;\n",
              "      box-shadow: 0px 1px 2px rgba(60, 64, 67, 0.3), 0px 1px 3px 1px rgba(60, 64, 67, 0.15);\n",
              "      fill: #174EA6;\n",
              "    }\n",
              "\n",
              "    .colab-df-buttons div {\n",
              "      margin-bottom: 4px;\n",
              "    }\n",
              "\n",
              "    [theme=dark] .colab-df-convert {\n",
              "      background-color: #3B4455;\n",
              "      fill: #D2E3FC;\n",
              "    }\n",
              "\n",
              "    [theme=dark] .colab-df-convert:hover {\n",
              "      background-color: #434B5C;\n",
              "      box-shadow: 0px 1px 3px 1px rgba(0, 0, 0, 0.15);\n",
              "      filter: drop-shadow(0px 1px 2px rgba(0, 0, 0, 0.3));\n",
              "      fill: #FFFFFF;\n",
              "    }\n",
              "  </style>\n",
              "\n",
              "    <script>\n",
              "      const buttonEl =\n",
              "        document.querySelector('#df-779de914-1448-4256-8731-f349172d836e button.colab-df-convert');\n",
              "      buttonEl.style.display =\n",
              "        google.colab.kernel.accessAllowed ? 'block' : 'none';\n",
              "\n",
              "      async function convertToInteractive(key) {\n",
              "        const element = document.querySelector('#df-779de914-1448-4256-8731-f349172d836e');\n",
              "        const dataTable =\n",
              "          await google.colab.kernel.invokeFunction('convertToInteractive',\n",
              "                                                    [key], {});\n",
              "        if (!dataTable) return;\n",
              "\n",
              "        const docLinkHtml = 'Like what you see? Visit the ' +\n",
              "          '<a target=\"_blank\" href=https://colab.research.google.com/notebooks/data_table.ipynb>data table notebook</a>'\n",
              "          + ' to learn more about interactive tables.';\n",
              "        element.innerHTML = '';\n",
              "        dataTable['output_type'] = 'display_data';\n",
              "        await google.colab.output.renderOutput(dataTable, element);\n",
              "        const docLink = document.createElement('div');\n",
              "        docLink.innerHTML = docLinkHtml;\n",
              "        element.appendChild(docLink);\n",
              "      }\n",
              "    </script>\n",
              "  </div>\n",
              "\n",
              "\n",
              "    <div id=\"df-50057c8f-48a2-42d4-a300-80b80a4492c0\">\n",
              "      <button class=\"colab-df-quickchart\" onclick=\"quickchart('df-50057c8f-48a2-42d4-a300-80b80a4492c0')\"\n",
              "                title=\"Suggest charts\"\n",
              "                style=\"display:none;\">\n",
              "\n",
              "<svg xmlns=\"http://www.w3.org/2000/svg\" height=\"24px\"viewBox=\"0 0 24 24\"\n",
              "     width=\"24px\">\n",
              "    <g>\n",
              "        <path d=\"M19 3H5c-1.1 0-2 .9-2 2v14c0 1.1.9 2 2 2h14c1.1 0 2-.9 2-2V5c0-1.1-.9-2-2-2zM9 17H7v-7h2v7zm4 0h-2V7h2v10zm4 0h-2v-4h2v4z\"/>\n",
              "    </g>\n",
              "</svg>\n",
              "      </button>\n",
              "\n",
              "<style>\n",
              "  .colab-df-quickchart {\n",
              "      --bg-color: #E8F0FE;\n",
              "      --fill-color: #1967D2;\n",
              "      --hover-bg-color: #E2EBFA;\n",
              "      --hover-fill-color: #174EA6;\n",
              "      --disabled-fill-color: #AAA;\n",
              "      --disabled-bg-color: #DDD;\n",
              "  }\n",
              "\n",
              "  [theme=dark] .colab-df-quickchart {\n",
              "      --bg-color: #3B4455;\n",
              "      --fill-color: #D2E3FC;\n",
              "      --hover-bg-color: #434B5C;\n",
              "      --hover-fill-color: #FFFFFF;\n",
              "      --disabled-bg-color: #3B4455;\n",
              "      --disabled-fill-color: #666;\n",
              "  }\n",
              "\n",
              "  .colab-df-quickchart {\n",
              "    background-color: var(--bg-color);\n",
              "    border: none;\n",
              "    border-radius: 50%;\n",
              "    cursor: pointer;\n",
              "    display: none;\n",
              "    fill: var(--fill-color);\n",
              "    height: 32px;\n",
              "    padding: 0;\n",
              "    width: 32px;\n",
              "  }\n",
              "\n",
              "  .colab-df-quickchart:hover {\n",
              "    background-color: var(--hover-bg-color);\n",
              "    box-shadow: 0 1px 2px rgba(60, 64, 67, 0.3), 0 1px 3px 1px rgba(60, 64, 67, 0.15);\n",
              "    fill: var(--button-hover-fill-color);\n",
              "  }\n",
              "\n",
              "  .colab-df-quickchart-complete:disabled,\n",
              "  .colab-df-quickchart-complete:disabled:hover {\n",
              "    background-color: var(--disabled-bg-color);\n",
              "    fill: var(--disabled-fill-color);\n",
              "    box-shadow: none;\n",
              "  }\n",
              "\n",
              "  .colab-df-spinner {\n",
              "    border: 2px solid var(--fill-color);\n",
              "    border-color: transparent;\n",
              "    border-bottom-color: var(--fill-color);\n",
              "    animation:\n",
              "      spin 1s steps(1) infinite;\n",
              "  }\n",
              "\n",
              "  @keyframes spin {\n",
              "    0% {\n",
              "      border-color: transparent;\n",
              "      border-bottom-color: var(--fill-color);\n",
              "      border-left-color: var(--fill-color);\n",
              "    }\n",
              "    20% {\n",
              "      border-color: transparent;\n",
              "      border-left-color: var(--fill-color);\n",
              "      border-top-color: var(--fill-color);\n",
              "    }\n",
              "    30% {\n",
              "      border-color: transparent;\n",
              "      border-left-color: var(--fill-color);\n",
              "      border-top-color: var(--fill-color);\n",
              "      border-right-color: var(--fill-color);\n",
              "    }\n",
              "    40% {\n",
              "      border-color: transparent;\n",
              "      border-right-color: var(--fill-color);\n",
              "      border-top-color: var(--fill-color);\n",
              "    }\n",
              "    60% {\n",
              "      border-color: transparent;\n",
              "      border-right-color: var(--fill-color);\n",
              "    }\n",
              "    80% {\n",
              "      border-color: transparent;\n",
              "      border-right-color: var(--fill-color);\n",
              "      border-bottom-color: var(--fill-color);\n",
              "    }\n",
              "    90% {\n",
              "      border-color: transparent;\n",
              "      border-bottom-color: var(--fill-color);\n",
              "    }\n",
              "  }\n",
              "</style>\n",
              "\n",
              "      <script>\n",
              "        async function quickchart(key) {\n",
              "          const quickchartButtonEl =\n",
              "            document.querySelector('#' + key + ' button');\n",
              "          quickchartButtonEl.disabled = true;  // To prevent multiple clicks.\n",
              "          quickchartButtonEl.classList.add('colab-df-spinner');\n",
              "          try {\n",
              "            const charts = await google.colab.kernel.invokeFunction(\n",
              "                'suggestCharts', [key], {});\n",
              "          } catch (error) {\n",
              "            console.error('Error during call to suggestCharts:', error);\n",
              "          }\n",
              "          quickchartButtonEl.classList.remove('colab-df-spinner');\n",
              "          quickchartButtonEl.classList.add('colab-df-quickchart-complete');\n",
              "        }\n",
              "        (() => {\n",
              "          let quickchartButtonEl =\n",
              "            document.querySelector('#df-50057c8f-48a2-42d4-a300-80b80a4492c0 button');\n",
              "          quickchartButtonEl.style.display =\n",
              "            google.colab.kernel.accessAllowed ? 'block' : 'none';\n",
              "        })();\n",
              "      </script>\n",
              "    </div>\n",
              "\n",
              "    </div>\n",
              "  </div>\n"
            ],
            "text/plain": [
              "       Start_Latitude  Start_Longitude  End_Latitude  End_Longitude  \\\n",
              "count    10000.000000     10000.000000  10000.000000   10000.000000   \n",
              "mean        -0.321812        -0.394588      0.084391       0.467617   \n",
              "std         51.919190       104.083440     51.709437     103.438134   \n",
              "min        -89.999003      -179.993975    -89.998482    -179.902756   \n",
              "25%        -45.390697       -91.444680    -43.664719     -88.871564   \n",
              "50%         -0.138849        -0.479892     -0.163116       1.280823   \n",
              "75%         44.480926        89.640253     44.957102      91.196076   \n",
              "max         89.980302       179.989973     89.989145     179.955036   \n",
              "\n",
              "       Flight_Distance_km  Flight_Duration_hours  Average_Speed_kmph  \\\n",
              "count        10000.000000           10000.000000        10000.000000   \n",
              "mean          2504.036134              49.994020           49.953394   \n",
              "std            499.723298              10.026108            5.085296   \n",
              "min            527.700000              12.600000           30.430000   \n",
              "25%           2169.632500              43.200000           46.530000   \n",
              "50%           2511.150000              50.050000           50.040000   \n",
              "75%           2841.452500              56.800000           53.360000   \n",
              "max           4428.320000              91.000000           68.950000   \n",
              "\n",
              "       Max_Altitude_m  Min_Altitude_m  Temperature_C  ...  Pressure_hPa  \\\n",
              "count     10000.00000    10000.000000   10000.000000  ...  10000.000000   \n",
              "mean       5504.80830      500.111800      12.566930  ...   1000.440810   \n",
              "std        2595.28577      229.782907      13.073405  ...     28.959614   \n",
              "min        1000.00000      100.000000     -10.000000  ...    950.000000   \n",
              "25%        3277.75000      300.000000       1.200000  ...    975.000000   \n",
              "50%        5521.00000      501.000000      12.500000  ...   1000.950000   \n",
              "75%        7740.25000      698.000000      24.000000  ...   1025.500000   \n",
              "max        9999.00000      899.000000      35.000000  ...   1050.000000   \n",
              "\n",
              "       Visibility_km  Tag_Battery_Level_%  Signal_Strength_dB    Rest_Stops  \\\n",
              "count   10000.000000         10000.000000          10000.0000  10000.000000   \n",
              "mean       10.636970            54.651800            -69.8408      7.380000   \n",
              "std         5.504623            25.839271              9.9189      4.023583   \n",
              "min         1.000000            10.000000           -107.9000      1.000000   \n",
              "25%         5.900000            32.000000            -76.6000      4.000000   \n",
              "50%        10.700000            55.000000            -69.8000      7.000000   \n",
              "75%        15.400000            77.000000            -63.1000     11.000000   \n",
              "max        20.000000            99.000000            -33.3000     14.000000   \n",
              "\n",
              "       Predator_Sightings    Flock_Size  Tag_Weight_g  Recovery_Time_days  \\\n",
              "count        10000.000000  10000.000000  10000.000000        10000.000000   \n",
              "mean             4.490200    248.714500     17.605870           60.490800   \n",
              "std              2.872826    144.943771      7.200088           34.434028   \n",
              "min              0.000000      1.000000      5.000000            1.000000   \n",
              "25%              2.000000    124.000000     11.400000           31.000000   \n",
              "50%              5.000000    248.000000     17.700000           61.000000   \n",
              "75%              7.000000    376.000000     24.000000           91.000000   \n",
              "max              9.000000    499.000000     30.000000          119.000000   \n",
              "\n",
              "       Observation_Counts  \n",
              "count        10000.000000  \n",
              "mean            49.872800  \n",
              "std             28.601997  \n",
              "min              1.000000  \n",
              "25%             25.000000  \n",
              "50%             50.000000  \n",
              "75%             74.000000  \n",
              "max             99.000000  \n",
              "\n",
              "[8 rows x 22 columns]"
            ]
          },
          "execution_count": 5,
          "metadata": {},
          "output_type": "execute_result"
        }
      ],
      "source": [
        "df.describe()"
      ]
    },
    {
      "cell_type": "code",
      "execution_count": null,
      "metadata": {
        "colab": {
          "base_uri": "https://localhost:8080/"
        },
        "id": "J5sn6vJZQwtS",
        "outputId": "2b4dfca2-e0f9-4a87-8149-ff70efc053b4"
      },
      "outputs": [
        {
          "data": {
            "text/plain": [
              "Index(['Bird_ID', 'Species', 'Region', 'Habitat', 'Weather_Condition',\n",
              "       'Migration_Reason', 'Start_Latitude', 'Start_Longitude', 'End_Latitude',\n",
              "       'End_Longitude', 'Flight_Distance_km', 'Flight_Duration_hours',\n",
              "       'Average_Speed_kmph', 'Max_Altitude_m', 'Min_Altitude_m',\n",
              "       'Temperature_C', 'Wind_Speed_kmph', 'Humidity_%', 'Pressure_hPa',\n",
              "       'Visibility_km', 'Nesting_Success', 'Tag_Battery_Level_%',\n",
              "       'Signal_Strength_dB', 'Migration_Start_Month', 'Migration_End_Month',\n",
              "       'Rest_Stops', 'Predator_Sightings', 'Tag_Type', 'Migrated_in_Flock',\n",
              "       'Flock_Size', 'Food_Supply_Level', 'Tracking_Quality',\n",
              "       'Migration_Interrupted', 'Interrupted_Reason', 'Tagged_By',\n",
              "       'Tag_Weight_g', 'Migration_Success', 'Recovery_Location_Known',\n",
              "       'Recovery_Time_days', 'Observation_Counts', 'Observation_Quality'],\n",
              "      dtype='object')"
            ]
          },
          "execution_count": 6,
          "metadata": {},
          "output_type": "execute_result"
        }
      ],
      "source": [
        "df.columns"
      ]
    },
    {
      "cell_type": "code",
      "execution_count": null,
      "metadata": {
        "colab": {
          "base_uri": "https://localhost:8080/",
          "height": 1000
        },
        "id": "Q6CFHnkTeLML",
        "outputId": "58b17ef8-6129-4c18-9944-6f7b44c641eb"
      },
      "outputs": [
        {
          "data": {
            "text/html": [
              "<div>\n",
              "<style scoped>\n",
              "    .dataframe tbody tr th:only-of-type {\n",
              "        vertical-align: middle;\n",
              "    }\n",
              "\n",
              "    .dataframe tbody tr th {\n",
              "        vertical-align: top;\n",
              "    }\n",
              "\n",
              "    .dataframe thead th {\n",
              "        text-align: right;\n",
              "    }\n",
              "</style>\n",
              "<table border=\"1\" class=\"dataframe\">\n",
              "  <thead>\n",
              "    <tr style=\"text-align: right;\">\n",
              "      <th></th>\n",
              "      <th>0</th>\n",
              "    </tr>\n",
              "  </thead>\n",
              "  <tbody>\n",
              "    <tr>\n",
              "      <th>Bird_ID</th>\n",
              "      <td>object</td>\n",
              "    </tr>\n",
              "    <tr>\n",
              "      <th>Species</th>\n",
              "      <td>object</td>\n",
              "    </tr>\n",
              "    <tr>\n",
              "      <th>Region</th>\n",
              "      <td>object</td>\n",
              "    </tr>\n",
              "    <tr>\n",
              "      <th>Habitat</th>\n",
              "      <td>object</td>\n",
              "    </tr>\n",
              "    <tr>\n",
              "      <th>Weather_Condition</th>\n",
              "      <td>object</td>\n",
              "    </tr>\n",
              "    <tr>\n",
              "      <th>Migration_Reason</th>\n",
              "      <td>object</td>\n",
              "    </tr>\n",
              "    <tr>\n",
              "      <th>Start_Latitude</th>\n",
              "      <td>float64</td>\n",
              "    </tr>\n",
              "    <tr>\n",
              "      <th>Start_Longitude</th>\n",
              "      <td>float64</td>\n",
              "    </tr>\n",
              "    <tr>\n",
              "      <th>End_Latitude</th>\n",
              "      <td>float64</td>\n",
              "    </tr>\n",
              "    <tr>\n",
              "      <th>End_Longitude</th>\n",
              "      <td>float64</td>\n",
              "    </tr>\n",
              "    <tr>\n",
              "      <th>Flight_Distance_km</th>\n",
              "      <td>float64</td>\n",
              "    </tr>\n",
              "    <tr>\n",
              "      <th>Flight_Duration_hours</th>\n",
              "      <td>float64</td>\n",
              "    </tr>\n",
              "    <tr>\n",
              "      <th>Average_Speed_kmph</th>\n",
              "      <td>float64</td>\n",
              "    </tr>\n",
              "    <tr>\n",
              "      <th>Max_Altitude_m</th>\n",
              "      <td>int64</td>\n",
              "    </tr>\n",
              "    <tr>\n",
              "      <th>Min_Altitude_m</th>\n",
              "      <td>int64</td>\n",
              "    </tr>\n",
              "    <tr>\n",
              "      <th>Temperature_C</th>\n",
              "      <td>float64</td>\n",
              "    </tr>\n",
              "    <tr>\n",
              "      <th>Wind_Speed_kmph</th>\n",
              "      <td>float64</td>\n",
              "    </tr>\n",
              "    <tr>\n",
              "      <th>Humidity_%</th>\n",
              "      <td>int64</td>\n",
              "    </tr>\n",
              "    <tr>\n",
              "      <th>Pressure_hPa</th>\n",
              "      <td>float64</td>\n",
              "    </tr>\n",
              "    <tr>\n",
              "      <th>Visibility_km</th>\n",
              "      <td>float64</td>\n",
              "    </tr>\n",
              "    <tr>\n",
              "      <th>Nesting_Success</th>\n",
              "      <td>object</td>\n",
              "    </tr>\n",
              "    <tr>\n",
              "      <th>Tag_Battery_Level_%</th>\n",
              "      <td>int64</td>\n",
              "    </tr>\n",
              "    <tr>\n",
              "      <th>Signal_Strength_dB</th>\n",
              "      <td>float64</td>\n",
              "    </tr>\n",
              "    <tr>\n",
              "      <th>Migration_Start_Month</th>\n",
              "      <td>object</td>\n",
              "    </tr>\n",
              "    <tr>\n",
              "      <th>Migration_End_Month</th>\n",
              "      <td>object</td>\n",
              "    </tr>\n",
              "    <tr>\n",
              "      <th>Rest_Stops</th>\n",
              "      <td>int64</td>\n",
              "    </tr>\n",
              "    <tr>\n",
              "      <th>Predator_Sightings</th>\n",
              "      <td>int64</td>\n",
              "    </tr>\n",
              "    <tr>\n",
              "      <th>Tag_Type</th>\n",
              "      <td>object</td>\n",
              "    </tr>\n",
              "    <tr>\n",
              "      <th>Migrated_in_Flock</th>\n",
              "      <td>object</td>\n",
              "    </tr>\n",
              "    <tr>\n",
              "      <th>Flock_Size</th>\n",
              "      <td>int64</td>\n",
              "    </tr>\n",
              "    <tr>\n",
              "      <th>Food_Supply_Level</th>\n",
              "      <td>object</td>\n",
              "    </tr>\n",
              "    <tr>\n",
              "      <th>Tracking_Quality</th>\n",
              "      <td>object</td>\n",
              "    </tr>\n",
              "    <tr>\n",
              "      <th>Migration_Interrupted</th>\n",
              "      <td>object</td>\n",
              "    </tr>\n",
              "    <tr>\n",
              "      <th>Interrupted_Reason</th>\n",
              "      <td>object</td>\n",
              "    </tr>\n",
              "    <tr>\n",
              "      <th>Tagged_By</th>\n",
              "      <td>object</td>\n",
              "    </tr>\n",
              "    <tr>\n",
              "      <th>Tag_Weight_g</th>\n",
              "      <td>float64</td>\n",
              "    </tr>\n",
              "    <tr>\n",
              "      <th>Migration_Success</th>\n",
              "      <td>object</td>\n",
              "    </tr>\n",
              "    <tr>\n",
              "      <th>Recovery_Location_Known</th>\n",
              "      <td>object</td>\n",
              "    </tr>\n",
              "    <tr>\n",
              "      <th>Recovery_Time_days</th>\n",
              "      <td>int64</td>\n",
              "    </tr>\n",
              "    <tr>\n",
              "      <th>Observation_Counts</th>\n",
              "      <td>int64</td>\n",
              "    </tr>\n",
              "    <tr>\n",
              "      <th>Observation_Quality</th>\n",
              "      <td>object</td>\n",
              "    </tr>\n",
              "  </tbody>\n",
              "</table>\n",
              "</div><br><label><b>dtype:</b> object</label>"
            ],
            "text/plain": [
              "Bird_ID                     object\n",
              "Species                     object\n",
              "Region                      object\n",
              "Habitat                     object\n",
              "Weather_Condition           object\n",
              "Migration_Reason            object\n",
              "Start_Latitude             float64\n",
              "Start_Longitude            float64\n",
              "End_Latitude               float64\n",
              "End_Longitude              float64\n",
              "Flight_Distance_km         float64\n",
              "Flight_Duration_hours      float64\n",
              "Average_Speed_kmph         float64\n",
              "Max_Altitude_m               int64\n",
              "Min_Altitude_m               int64\n",
              "Temperature_C              float64\n",
              "Wind_Speed_kmph            float64\n",
              "Humidity_%                   int64\n",
              "Pressure_hPa               float64\n",
              "Visibility_km              float64\n",
              "Nesting_Success             object\n",
              "Tag_Battery_Level_%          int64\n",
              "Signal_Strength_dB         float64\n",
              "Migration_Start_Month       object\n",
              "Migration_End_Month         object\n",
              "Rest_Stops                   int64\n",
              "Predator_Sightings           int64\n",
              "Tag_Type                    object\n",
              "Migrated_in_Flock           object\n",
              "Flock_Size                   int64\n",
              "Food_Supply_Level           object\n",
              "Tracking_Quality            object\n",
              "Migration_Interrupted       object\n",
              "Interrupted_Reason          object\n",
              "Tagged_By                   object\n",
              "Tag_Weight_g               float64\n",
              "Migration_Success           object\n",
              "Recovery_Location_Known     object\n",
              "Recovery_Time_days           int64\n",
              "Observation_Counts           int64\n",
              "Observation_Quality         object\n",
              "dtype: object"
            ]
          },
          "execution_count": 7,
          "metadata": {},
          "output_type": "execute_result"
        }
      ],
      "source": [
        "df.dtypes"
      ]
    },
    {
      "cell_type": "code",
      "execution_count": null,
      "metadata": {
        "colab": {
          "base_uri": "https://localhost:8080/",
          "height": 1000
        },
        "id": "EePPCtYawKwf",
        "outputId": "c1758ac1-d76e-4f21-9baf-c3d844fcaf26"
      },
      "outputs": [
        {
          "data": {
            "text/html": [
              "<div>\n",
              "<style scoped>\n",
              "    .dataframe tbody tr th:only-of-type {\n",
              "        vertical-align: middle;\n",
              "    }\n",
              "\n",
              "    .dataframe tbody tr th {\n",
              "        vertical-align: top;\n",
              "    }\n",
              "\n",
              "    .dataframe thead th {\n",
              "        text-align: right;\n",
              "    }\n",
              "</style>\n",
              "<table border=\"1\" class=\"dataframe\">\n",
              "  <thead>\n",
              "    <tr style=\"text-align: right;\">\n",
              "      <th></th>\n",
              "      <th>0</th>\n",
              "    </tr>\n",
              "  </thead>\n",
              "  <tbody>\n",
              "    <tr>\n",
              "      <th>Bird_ID</th>\n",
              "      <td>0</td>\n",
              "    </tr>\n",
              "    <tr>\n",
              "      <th>Species</th>\n",
              "      <td>0</td>\n",
              "    </tr>\n",
              "    <tr>\n",
              "      <th>Region</th>\n",
              "      <td>0</td>\n",
              "    </tr>\n",
              "    <tr>\n",
              "      <th>Habitat</th>\n",
              "      <td>0</td>\n",
              "    </tr>\n",
              "    <tr>\n",
              "      <th>Weather_Condition</th>\n",
              "      <td>0</td>\n",
              "    </tr>\n",
              "    <tr>\n",
              "      <th>Migration_Reason</th>\n",
              "      <td>0</td>\n",
              "    </tr>\n",
              "    <tr>\n",
              "      <th>Start_Latitude</th>\n",
              "      <td>0</td>\n",
              "    </tr>\n",
              "    <tr>\n",
              "      <th>Start_Longitude</th>\n",
              "      <td>0</td>\n",
              "    </tr>\n",
              "    <tr>\n",
              "      <th>End_Latitude</th>\n",
              "      <td>0</td>\n",
              "    </tr>\n",
              "    <tr>\n",
              "      <th>End_Longitude</th>\n",
              "      <td>0</td>\n",
              "    </tr>\n",
              "    <tr>\n",
              "      <th>Flight_Distance_km</th>\n",
              "      <td>0</td>\n",
              "    </tr>\n",
              "    <tr>\n",
              "      <th>Flight_Duration_hours</th>\n",
              "      <td>0</td>\n",
              "    </tr>\n",
              "    <tr>\n",
              "      <th>Average_Speed_kmph</th>\n",
              "      <td>0</td>\n",
              "    </tr>\n",
              "    <tr>\n",
              "      <th>Max_Altitude_m</th>\n",
              "      <td>0</td>\n",
              "    </tr>\n",
              "    <tr>\n",
              "      <th>Min_Altitude_m</th>\n",
              "      <td>0</td>\n",
              "    </tr>\n",
              "    <tr>\n",
              "      <th>Temperature_C</th>\n",
              "      <td>0</td>\n",
              "    </tr>\n",
              "    <tr>\n",
              "      <th>Wind_Speed_kmph</th>\n",
              "      <td>0</td>\n",
              "    </tr>\n",
              "    <tr>\n",
              "      <th>Humidity_%</th>\n",
              "      <td>0</td>\n",
              "    </tr>\n",
              "    <tr>\n",
              "      <th>Pressure_hPa</th>\n",
              "      <td>0</td>\n",
              "    </tr>\n",
              "    <tr>\n",
              "      <th>Visibility_km</th>\n",
              "      <td>0</td>\n",
              "    </tr>\n",
              "    <tr>\n",
              "      <th>Nesting_Success</th>\n",
              "      <td>0</td>\n",
              "    </tr>\n",
              "    <tr>\n",
              "      <th>Tag_Battery_Level_%</th>\n",
              "      <td>0</td>\n",
              "    </tr>\n",
              "    <tr>\n",
              "      <th>Signal_Strength_dB</th>\n",
              "      <td>0</td>\n",
              "    </tr>\n",
              "    <tr>\n",
              "      <th>Migration_Start_Month</th>\n",
              "      <td>0</td>\n",
              "    </tr>\n",
              "    <tr>\n",
              "      <th>Migration_End_Month</th>\n",
              "      <td>0</td>\n",
              "    </tr>\n",
              "    <tr>\n",
              "      <th>Rest_Stops</th>\n",
              "      <td>0</td>\n",
              "    </tr>\n",
              "    <tr>\n",
              "      <th>Predator_Sightings</th>\n",
              "      <td>0</td>\n",
              "    </tr>\n",
              "    <tr>\n",
              "      <th>Tag_Type</th>\n",
              "      <td>0</td>\n",
              "    </tr>\n",
              "    <tr>\n",
              "      <th>Migrated_in_Flock</th>\n",
              "      <td>0</td>\n",
              "    </tr>\n",
              "    <tr>\n",
              "      <th>Flock_Size</th>\n",
              "      <td>0</td>\n",
              "    </tr>\n",
              "    <tr>\n",
              "      <th>Food_Supply_Level</th>\n",
              "      <td>0</td>\n",
              "    </tr>\n",
              "    <tr>\n",
              "      <th>Tracking_Quality</th>\n",
              "      <td>0</td>\n",
              "    </tr>\n",
              "    <tr>\n",
              "      <th>Migration_Interrupted</th>\n",
              "      <td>0</td>\n",
              "    </tr>\n",
              "    <tr>\n",
              "      <th>Interrupted_Reason</th>\n",
              "      <td>1981</td>\n",
              "    </tr>\n",
              "    <tr>\n",
              "      <th>Tagged_By</th>\n",
              "      <td>0</td>\n",
              "    </tr>\n",
              "    <tr>\n",
              "      <th>Tag_Weight_g</th>\n",
              "      <td>0</td>\n",
              "    </tr>\n",
              "    <tr>\n",
              "      <th>Migration_Success</th>\n",
              "      <td>0</td>\n",
              "    </tr>\n",
              "    <tr>\n",
              "      <th>Recovery_Location_Known</th>\n",
              "      <td>0</td>\n",
              "    </tr>\n",
              "    <tr>\n",
              "      <th>Recovery_Time_days</th>\n",
              "      <td>0</td>\n",
              "    </tr>\n",
              "    <tr>\n",
              "      <th>Observation_Counts</th>\n",
              "      <td>0</td>\n",
              "    </tr>\n",
              "    <tr>\n",
              "      <th>Observation_Quality</th>\n",
              "      <td>0</td>\n",
              "    </tr>\n",
              "  </tbody>\n",
              "</table>\n",
              "</div><br><label><b>dtype:</b> int64</label>"
            ],
            "text/plain": [
              "Bird_ID                       0\n",
              "Species                       0\n",
              "Region                        0\n",
              "Habitat                       0\n",
              "Weather_Condition             0\n",
              "Migration_Reason              0\n",
              "Start_Latitude                0\n",
              "Start_Longitude               0\n",
              "End_Latitude                  0\n",
              "End_Longitude                 0\n",
              "Flight_Distance_km            0\n",
              "Flight_Duration_hours         0\n",
              "Average_Speed_kmph            0\n",
              "Max_Altitude_m                0\n",
              "Min_Altitude_m                0\n",
              "Temperature_C                 0\n",
              "Wind_Speed_kmph               0\n",
              "Humidity_%                    0\n",
              "Pressure_hPa                  0\n",
              "Visibility_km                 0\n",
              "Nesting_Success               0\n",
              "Tag_Battery_Level_%           0\n",
              "Signal_Strength_dB            0\n",
              "Migration_Start_Month         0\n",
              "Migration_End_Month           0\n",
              "Rest_Stops                    0\n",
              "Predator_Sightings            0\n",
              "Tag_Type                      0\n",
              "Migrated_in_Flock             0\n",
              "Flock_Size                    0\n",
              "Food_Supply_Level             0\n",
              "Tracking_Quality              0\n",
              "Migration_Interrupted         0\n",
              "Interrupted_Reason         1981\n",
              "Tagged_By                     0\n",
              "Tag_Weight_g                  0\n",
              "Migration_Success             0\n",
              "Recovery_Location_Known       0\n",
              "Recovery_Time_days            0\n",
              "Observation_Counts            0\n",
              "Observation_Quality           0\n",
              "dtype: int64"
            ]
          },
          "execution_count": 8,
          "metadata": {},
          "output_type": "execute_result"
        }
      ],
      "source": [
        "df.isnull().sum()"
      ]
    },
    {
      "cell_type": "markdown",
      "metadata": {
        "id": "Ps53kbXk7eIN"
      },
      "source": [
        "#Handling Missing Values"
      ]
    },
    {
      "cell_type": "markdown",
      "metadata": {
        "id": "ifqlWRzYwPku"
      },
      "source": [
        "There are 1981 items missing in Interuppted reason."
      ]
    },
    {
      "cell_type": "code",
      "execution_count": null,
      "metadata": {
        "id": "21BkhyiP7goz"
      },
      "outputs": [],
      "source": [
        "missing_reason_df = df[df['Interrupted_Reason'].isnull()]"
      ]
    },
    {
      "cell_type": "code",
      "execution_count": null,
      "metadata": {
        "id": "Jgo-94eQ9QdC"
      },
      "outputs": [],
      "source": [
        "df_copy = df.copy()"
      ]
    },
    {
      "cell_type": "code",
      "execution_count": null,
      "metadata": {
        "id": "n7vAQKAXGGvB"
      },
      "outputs": [],
      "source": [
        "df_copy['Start_Latitude'] = df_copy['Start_Latitude'].round(1)\n",
        "df_copy['Start_Longitude'] = df_copy['Start_Longitude'].round(1)"
      ]
    },
    {
      "cell_type": "code",
      "execution_count": null,
      "metadata": {
        "colab": {
          "base_uri": "https://localhost:8080/",
          "height": 397
        },
        "id": "aGANqUsRGqv3",
        "outputId": "d7f807b8-8a6c-4958-bffd-35f00cbb0e49"
      },
      "outputs": [
        {
          "data": {
            "text/html": [
              "<div>\n",
              "<style scoped>\n",
              "    .dataframe tbody tr th:only-of-type {\n",
              "        vertical-align: middle;\n",
              "    }\n",
              "\n",
              "    .dataframe tbody tr th {\n",
              "        vertical-align: top;\n",
              "    }\n",
              "\n",
              "    .dataframe thead th {\n",
              "        text-align: right;\n",
              "    }\n",
              "</style>\n",
              "<table border=\"1\" class=\"dataframe\">\n",
              "  <thead>\n",
              "    <tr style=\"text-align: right;\">\n",
              "      <th></th>\n",
              "      <th>Start_Longitude</th>\n",
              "    </tr>\n",
              "  </thead>\n",
              "  <tbody>\n",
              "    <tr>\n",
              "      <th>0</th>\n",
              "      <td>-169.4</td>\n",
              "    </tr>\n",
              "    <tr>\n",
              "      <th>1</th>\n",
              "      <td>-111.5</td>\n",
              "    </tr>\n",
              "    <tr>\n",
              "      <th>2</th>\n",
              "      <td>-78.7</td>\n",
              "    </tr>\n",
              "    <tr>\n",
              "      <th>3</th>\n",
              "      <td>153.1</td>\n",
              "    </tr>\n",
              "    <tr>\n",
              "      <th>4</th>\n",
              "      <td>106.7</td>\n",
              "    </tr>\n",
              "    <tr>\n",
              "      <th>5</th>\n",
              "      <td>138.3</td>\n",
              "    </tr>\n",
              "    <tr>\n",
              "      <th>6</th>\n",
              "      <td>-21.4</td>\n",
              "    </tr>\n",
              "    <tr>\n",
              "      <th>7</th>\n",
              "      <td>116.1</td>\n",
              "    </tr>\n",
              "    <tr>\n",
              "      <th>8</th>\n",
              "      <td>127.3</td>\n",
              "    </tr>\n",
              "    <tr>\n",
              "      <th>9</th>\n",
              "      <td>-36.0</td>\n",
              "    </tr>\n",
              "  </tbody>\n",
              "</table>\n",
              "</div><br><label><b>dtype:</b> float64</label>"
            ],
            "text/plain": [
              "0   -169.4\n",
              "1   -111.5\n",
              "2    -78.7\n",
              "3    153.1\n",
              "4    106.7\n",
              "5    138.3\n",
              "6    -21.4\n",
              "7    116.1\n",
              "8    127.3\n",
              "9    -36.0\n",
              "Name: Start_Longitude, dtype: float64"
            ]
          },
          "execution_count": 12,
          "metadata": {},
          "output_type": "execute_result"
        }
      ],
      "source": [
        "df_copy['Start_Longitude'].head(10)"
      ]
    },
    {
      "cell_type": "code",
      "execution_count": null,
      "metadata": {
        "colab": {
          "base_uri": "https://localhost:8080/"
        },
        "id": "OFTqq1lmG3I2",
        "outputId": "f71494bb-f5fe-4597-d656-ddc64680d60a"
      },
      "outputs": [
        {
          "data": {
            "text/plain": [
              "3379"
            ]
          },
          "execution_count": 13,
          "metadata": {},
          "output_type": "execute_result"
        }
      ],
      "source": [
        "len(df_copy['Start_Longitude'].unique())\n"
      ]
    },
    {
      "cell_type": "code",
      "execution_count": null,
      "metadata": {
        "colab": {
          "base_uri": "https://localhost:8080/"
        },
        "id": "GIjfvt33P7Ap",
        "outputId": "95952bd9-749f-4247-ed5f-e839a16b9642"
      },
      "outputs": [
        {
          "data": {
            "text/plain": [
              "1796"
            ]
          },
          "execution_count": 14,
          "metadata": {},
          "output_type": "execute_result"
        }
      ],
      "source": [
        "len(df_copy['Start_Latitude'].unique())"
      ]
    },
    {
      "cell_type": "markdown",
      "metadata": {
        "id": "a_1bu8gbrocU"
      },
      "source": [
        "# --- Imputing missing 'Interrupted_Reason' based on group consistency ---\n",
        "* We will group the bird migration data by 'Species', 'Start_Latitude', 'Start_Longitude', and 'Migration_Start_Month'. The goal is to leverage instances where at least one bird within such a specific group has a recorded 'Interrupted_Reason'.\n",
        "\n",
        "* If we find a reason, we will propagate that same reason to all other birds in the same group with missing 'Interrupted_Reason'.\n",
        "\n",
        "* The underlying assumption is that birds sharing these characteristics (species, starting point, and migration start time) are more likely to experience the same causes for migration interruption.\n",
        "\n",
        "* Now first we have to check if imputation is possible i.e., we need to check if the group has atleast one non-null 'Interrupted_Reason'.\n",
        "\n"
      ]
    },
    {
      "cell_type": "code",
      "execution_count": null,
      "metadata": {
        "id": "F--LMj7WBYbp"
      },
      "outputs": [],
      "source": [
        "grouping_cols = ['Species', 'Start_Latitude', 'Start_Longitude', 'Migration_Start_Month']\n",
        "reason_col = 'Interrupted_Reason'\n",
        "\n",
        "grouped = df_copy.groupby(grouping_cols)"
      ]
    },
    {
      "cell_type": "code",
      "execution_count": null,
      "metadata": {
        "id": "aVOldEk5BptX"
      },
      "outputs": [],
      "source": [
        "def can_impute_simple(group):\n",
        "    has_non_null = group[reason_col].notna().any()\n",
        "    has_null = group[reason_col].isnull().any()\n",
        "    return has_non_null and has_null"
      ]
    },
    {
      "cell_type": "code",
      "execution_count": null,
      "metadata": {
        "colab": {
          "base_uri": "https://localhost:8080/"
        },
        "id": "KdakJBtZBvXP",
        "outputId": "dec03201-9f52-4d64-91e4-40edebd4850b"
      },
      "outputs": [
        {
          "name": "stderr",
          "output_type": "stream",
          "text": [
            "<ipython-input-20-da5ea8e9b1f0>:1: DeprecationWarning: DataFrameGroupBy.apply operated on the grouping columns. This behavior is deprecated, and in a future version of pandas the grouping columns will be excluded from the operation. Either pass `include_groups=False` to exclude the groupings or explicitly select the grouping columns after groupby to silence this warning.\n",
            "  imputation_possible = grouped.apply(can_impute_simple).any()\n"
          ]
        }
      ],
      "source": [
        "imputation_possible = grouped.apply(can_impute_simple).any()\n"
      ]
    },
    {
      "cell_type": "code",
      "execution_count": null,
      "metadata": {
        "colab": {
          "base_uri": "https://localhost:8080/"
        },
        "id": "r3uoX-GtB1p5",
        "outputId": "a4924996-4028-405f-b8fa-2331b32f818e"
      },
      "outputs": [
        {
          "name": "stdout",
          "output_type": "stream",
          "text": [
            "False\n"
          ]
        }
      ],
      "source": [
        "print(imputation_possible)"
      ]
    },
    {
      "cell_type": "markdown",
      "metadata": {
        "id": "01Sz9ucaC6Oq"
      },
      "source": [
        "Now it's evident that imputation isn't possible"
      ]
    },
    {
      "cell_type": "markdown",
      "metadata": {
        "id": "KmrSDm61EgZW"
      },
      "source": [
        "# Univariate Analysis"
      ]
    },
    {
      "cell_type": "code",
      "execution_count": null,
      "metadata": {
        "colab": {
          "base_uri": "https://localhost:8080/",
          "height": 490
        },
        "id": "G8UyUcmrExz9",
        "outputId": "dd32e0bd-9360-4f2e-b79c-e4d72ac182d3"
      },
      "outputs": [
        {
          "data": {
            "text/plain": [
              "Text(0.5, 1.0, 'Distribution of Flight Distances')"
            ]
          },
          "execution_count": 31,
          "metadata": {},
          "output_type": "execute_result"
        },
        {
          "data": {
            "image/png": "[encoded data removed]",
            "text/plain": [
              "<Figure size 640x480 with 1 Axes>"
            ]
          },
          "metadata": {},
          "output_type": "display_data"
        }
      ],
      "source": [
        "df['Flight_Distance_km'].hist(bins=25)\n",
        "plt.xlabel('Avg Flight Distance (km)')\n",
        "plt.ylabel('Frequency')\n",
        "plt.title('Distribution of Flight Distances')"
      ]
    },
    {
      "cell_type": "code",
      "execution_count": null,
      "metadata": {
        "colab": {
          "base_uri": "https://localhost:8080/",
          "height": 490
        },
        "id": "W4qKF8XMI7F0",
        "outputId": "91c0ee8b-9a42-497f-92a7-5d28d25f1824"
      },
      "outputs": [
        {
          "data": {
            "text/plain": [
              "Text(0.5, 1.0, 'Distribution of Flight hours')"
            ]
          },
          "execution_count": 32,
          "metadata": {},
          "output_type": "execute_result"
        },
        {
          "data": {
            "image/png": "[encoded data removed]",
            "text/plain": [
              "<Figure size 640x480 with 1 Axes>"
            ]
          },
          "metadata": {},
          "output_type": "display_data"
        }
      ],
      "source": [
        "df['Flight_Duration_hours'].hist(bins=25)\n",
        "plt.xlabel('Avg Flight hours')\n",
        "plt.ylabel('Frequency')\n",
        "plt.title('Distribution of Flight hours')"
      ]
    },
    {
      "cell_type": "code",
      "execution_count": null,
      "metadata": {
        "colab": {
          "base_uri": "https://localhost:8080/",
          "height": 490
        },
        "id": "K5SIJdeVJZy1",
        "outputId": "fe2c6862-c5b6-4536-dadd-377d4410ac4b"
      },
      "outputs": [
        {
          "data": {
            "text/plain": [
              "Text(0.5, 1.0, 'Distribution of Average Speed')"
            ]
          },
          "execution_count": 34,
          "metadata": {},
          "output_type": "execute_result"
        },
        {
          "data": {
            "image/png": "[encoded data removed]",
            "text/plain": [
              "<Figure size 640x480 with 1 Axes>"
            ]
          },
          "metadata": {},
          "output_type": "display_data"
        }
      ],
      "source": [
        "sns.kdeplot(df['Average_Speed_kmph'])\n",
        "plt.xlabel('Average Speed (kmph)')\n",
        "plt.ylabel('Frequency')\n",
        "plt.title('Distribution of Average Speed')"
      ]
    },
    {
      "cell_type": "code",
      "execution_count": 46,
      "metadata": {
        "id": "8yD9uoS6JrQA"
      },
      "outputs": [],
      "source": [
        "altitude_data = df[['Max_Altitude_m', 'Min_Altitude_m']].melt(var_name = 'Altitude_Type', value_name = 'Altitude')"
      ]
    },
    {
      "cell_type": "code",
      "source": [
        "sns.boxplot(x = 'Altitude_Type', y = 'Altitude', data = altitude_data)\n",
        "plt.xlabel('Altitude Type')\n",
        "plt.ylabel('Altitude')\n",
        "plt.title('Distribution of Altitude')"
      ],
      "metadata": {
        "colab": {
          "base_uri": "https://localhost:8080/",
          "height": 490
        },
        "id": "bDxz1puIb7La",
        "outputId": "6481df89-0c7f-4df1-e33f-703376a2680e"
      },
      "execution_count": 47,
      "outputs": [
        {
          "output_type": "execute_result",
          "data": {
            "text/plain": [
              "Text(0.5, 1.0, 'Distribution of Altitude')"
            ]
          },
          "metadata": {},
          "execution_count": 47
        },
        {
          "output_type": "display_data",
          "data": {
            "text/plain": [
              "<Figure size 640x480 with 1 Axes>"
            ],
            "image/png": "[encoded data removed]"
          },
          "metadata": {}
        }
      ]
    },
    {
      "cell_type": "code",
      "source": [
        "sns.boxplot(df['Temperature_C'])\n",
        "plt.xlabel('Temperature (C)')\n",
        "plt.ylabel('Frequency')\n",
        "plt.title('Distribution of Temperature')"
      ],
      "metadata": {
        "colab": {
          "base_uri": "https://localhost:8080/",
          "height": 476
        },
        "id": "KdKafXsYdcaD",
        "outputId": "a3e8794a-fa99-421d-9e72-1860b988e942"
      },
      "execution_count": 55,
      "outputs": [
        {
          "output_type": "execute_result",
          "data": {
            "text/plain": [
              "Text(0.5, 1.0, 'Distribution of Temperature')"
            ]
          },
          "metadata": {},
          "execution_count": 55
        },
        {
          "output_type": "display_data",
          "data": {
            "text/plain": [
              "<Figure size 640x480 with 1 Axes>"
            ],
            "image/png": "[encoded data removed]"
          },
          "metadata": {}
        }
      ]
    },
    {
      "cell_type": "code",
      "source": [
        "sns.boxplot(df['Wind_Speed_kmph'])\n",
        "plt.xlabel('Wind Speed (kmph)')\n",
        "plt.ylabel('Frequency')\n",
        "plt.title('Distribution of Wind Speed')"
      ],
      "metadata": {
        "colab": {
          "base_uri": "https://localhost:8080/",
          "height": 476
        },
        "id": "-U1JYx3LlORI",
        "outputId": "13deb2c2-3f4a-4946-b6fc-1ef853568946"
      },
      "execution_count": 56,
      "outputs": [
        {
          "output_type": "execute_result",
          "data": {
            "text/plain": [
              "Text(0.5, 1.0, 'Distribution of Wind Speed')"
            ]
          },
          "metadata": {},
          "execution_count": 56
        },
        {
          "output_type": "display_data",
          "data": {
            "text/plain": [
              "<Figure size 640x480 with 1 Axes>"
            ],
            "image/png": "[encoded data removed]"
          },
          "metadata": {}
        }
      ]
    },
    {
      "cell_type": "code",
      "source": [
        "df.columns"
      ],
      "metadata": {
        "colab": {
          "base_uri": "https://localhost:8080/"
        },
        "id": "yQ8kAg23lhjA",
        "outputId": "95bb9c63-52e4-4c2c-d0b4-abfb3b6f1a02"
      },
      "execution_count": 53,
      "outputs": [
        {
          "output_type": "execute_result",
          "data": {
            "text/plain": [
              "Index(['Bird_ID', 'Species', 'Region', 'Habitat', 'Weather_Condition',\n",
              "       'Migration_Reason', 'Start_Latitude', 'Start_Longitude', 'End_Latitude',\n",
              "       'End_Longitude', 'Flight_Distance_km', 'Flight_Duration_hours',\n",
              "       'Average_Speed_kmph', 'Max_Altitude_m', 'Min_Altitude_m',\n",
              "       'Temperature_C', 'Wind_Speed_kmph', 'Humidity_%', 'Pressure_hPa',\n",
              "       'Visibility_km', 'Nesting_Success', 'Tag_Battery_Level_%',\n",
              "       'Signal_Strength_dB', 'Migration_Start_Month', 'Migration_End_Month',\n",
              "       'Rest_Stops', 'Predator_Sightings', 'Tag_Type', 'Migrated_in_Flock',\n",
              "       'Flock_Size', 'Food_Supply_Level', 'Tracking_Quality',\n",
              "       'Migration_Interrupted', 'Interrupted_Reason', 'Tagged_By',\n",
              "       'Tag_Weight_g', 'Migration_Success', 'Recovery_Location_Known',\n",
              "       'Recovery_Time_days', 'Observation_Counts', 'Observation_Quality'],\n",
              "      dtype='object')"
            ]
          },
          "metadata": {},
          "execution_count": 53
        }
      ]
    },
    {
      "cell_type": "code",
      "source": [
        "sns.boxplot(df['Humidity_%'])\n",
        "plt.xlabel('Humidity (%)')\n",
        "plt.ylabel('Frequency')\n",
        "plt.title('Distribution of Humidity')"
      ],
      "metadata": {
        "colab": {
          "base_uri": "https://localhost:8080/",
          "height": 476
        },
        "id": "1Cf_YrJqlljh",
        "outputId": "22bba532-97c2-45ab-9c2a-d078947f5b27"
      },
      "execution_count": 57,
      "outputs": [
        {
          "output_type": "execute_result",
          "data": {
            "text/plain": [
              "Text(0.5, 1.0, 'Distribution of Humidity')"
            ]
          },
          "metadata": {},
          "execution_count": 57
        },
        {
          "output_type": "display_data",
          "data": {
            "text/plain": [
              "<Figure size 640x480 with 1 Axes>"
            ],
            "image/png": "[encoded data removed]"
          },
          "metadata": {}
        }
      ]
    },
    {
      "cell_type": "code",
      "source": [
        "sns.boxplot(df['Pressure_hPa'])\n",
        "plt.xlabel('Pressure (hPa)')\n",
        "plt.ylabel('Frequency')\n",
        "plt.title('Distribution of Pressure')"
      ],
      "metadata": {
        "colab": {
          "base_uri": "https://localhost:8080/",
          "height": 476
        },
        "id": "zJ0stIUsy9AD",
        "outputId": "b62a3ed5-5a2c-474e-fd08-64ef28507e0b"
      },
      "execution_count": 62,
      "outputs": [
        {
          "output_type": "execute_result",
          "data": {
            "text/plain": [
              "Text(0.5, 1.0, 'Distribution of Pressure')"
            ]
          },
          "metadata": {},
          "execution_count": 62
        },
        {
          "output_type": "display_data",
          "data": {
            "text/plain": [
              "<Figure size 640x480 with 1 Axes>"
            ],
            "image/png": "[encoded data removed]"
          },
          "metadata": {}
        }
      ]
    }
  ],
  "metadata": {
    "colab": {
      "provenance": [],
      "authorship_tag": "ABX9TyNUb6mvgMgBykW6qAnuuNVQ",
      "include_colab_link": true
    },
    "kernelspec": {
      "display_name": "Python 3",
      "name": "python3"
    },
    "language_info": {
      "name": "python"
    }
  },
  "nbformat": 4,
  "nbformat_minor": 0
}